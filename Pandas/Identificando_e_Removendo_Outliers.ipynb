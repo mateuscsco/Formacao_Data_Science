{
  "nbformat": 4,
  "nbformat_minor": 0,
  "metadata": {
    "colab": {
      "name": "Identificando e Removendo Outliers.ipynb",
      "provenance": [],
      "collapsed_sections": [],
      "authorship_tag": "ABX9TyPIB3Ov4K+8FDRICjzKzJYv",
      "include_colab_link": true
    },
    "kernelspec": {
      "name": "python3",
      "display_name": "Python 3"
    },
    "language_info": {
      "name": "python"
    }
  },
  "cells": [
    {
      "cell_type": "markdown",
      "metadata": {
        "id": "view-in-github",
        "colab_type": "text"
      },
      "source": [
        "<a href=\"https://colab.research.google.com/github/mateuscsco/Formacao_Data_Science/blob/main/Pandas/Identificando_e_Removendo_Outliers.ipynb\" target=\"_parent\"><img src=\"https://colab.research.google.com/assets/colab-badge.svg\" alt=\"Open In Colab\"/></a>"
      ]
    },
    {
      "cell_type": "markdown",
      "source": [
        "#Relatório de Análise VIII"
      ],
      "metadata": {
        "id": "PmfTLXo6mIrD"
      }
    },
    {
      "cell_type": "markdown",
      "source": [
        "##Identificando e Removendo Outliers"
      ],
      "metadata": {
        "id": "6lIc1ekFmNIs"
      }
    },
    {
      "cell_type": "code",
      "execution_count": null,
      "metadata": {
        "colab": {
          "base_uri": "https://localhost:8080/"
        },
        "id": "YcidzTNslXsH",
        "outputId": "80ec8238-7384-4f78-dfe1-38b1f709bed3"
      },
      "outputs": [
        {
          "output_type": "stream",
          "name": "stdout",
          "text": [
            "Mounted at /content/drive\n"
          ]
        }
      ],
      "source": [
        "#importando pandas e matplotlib e drive do colab\n",
        "%matplotlib inline\n",
        "import pandas as pd\n",
        "from google.colab import drive\n",
        "drive.mount('/content/drive')\n",
        "import matplotlib.pyplot as plt\n",
        "plt.rc('figure', figsize = (14,6))"
      ]
    },
    {
      "cell_type": "markdown",
      "source": [
        "Estamos utilziando Box-plot, que possui a seguinte configuração: temos uma mediana, em que dividimos os dados em 50%, para a direita e esquerda, igualmente. Teremos o Q1, que se refere ao primeiro quartil e parte em 25% e 75%, já o Q3 parte os dados em 75% e 25%. A diferente entre Q3 e Q1 gera o intervalo interquartirico, isto é, as estatísticas que geraremos para realizar o corte de outliers.\n",
        "![image.png](data:image/png;base64,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)"
      ],
      "metadata": {
        "id": "TTFPbYDMn807"
      }
    },
    {
      "cell_type": "code",
      "source": [
        "dados = pd.read_csv('drive/MyDrive/Colab Notebooks/Formação Data Science/Pandas/Dados/aluguel_residencial.csv', sep=';')\n",
        "dados.head(10)"
      ],
      "metadata": {
        "colab": {
          "base_uri": "https://localhost:8080/",
          "height": 363
        },
        "id": "rwK35DnQl5RD",
        "outputId": "f4b5ffea-74be-4cad-feb2-ca1161063772"
      },
      "execution_count": null,
      "outputs": [
        {
          "output_type": "execute_result",
          "data": {
            "text/plain": [
              "                 Tipo               Bairro  Quartos  Vagas  Suites  Area  \\\n",
              "0           Quitinete           Copacabana        1      0       0    40   \n",
              "1                Casa      Jardim Botânico        2      0       1   100   \n",
              "2         Apartamento               Centro        1      0       0    15   \n",
              "3         Apartamento         Higienópolis        1      0       0    48   \n",
              "4         Apartamento             Cachambi        2      0       0    50   \n",
              "5  Casa de Condomínio      Barra da Tijuca        5      4       5   750   \n",
              "6  Casa de Condomínio                Ramos        2      2       0    65   \n",
              "7         Apartamento               Grajaú        2      1       0    70   \n",
              "8         Apartamento  Lins de Vasconcelos        3      1       1    90   \n",
              "9         Apartamento           Copacabana        1      0       1    40   \n",
              "\n",
              "     Valor  Condominio  IPTU  Valor m2 Tipo Agregado  \n",
              "0   1700.0       500.0  60.0     42.50   Apartamento  \n",
              "1   7000.0         0.0   0.0     70.00          Casa  \n",
              "2    800.0       390.0  20.0     53.33   Apartamento  \n",
              "3    800.0       230.0   0.0     16.67   Apartamento  \n",
              "4   1300.0       301.0  17.0     26.00   Apartamento  \n",
              "5  22000.0         0.0   0.0     29.33          Casa  \n",
              "6   1000.0         0.0   0.0     15.38          Casa  \n",
              "7   1500.0       642.0  74.0     21.43   Apartamento  \n",
              "8   1500.0       455.0  14.0     16.67   Apartamento  \n",
              "9   2000.0       561.0  50.0     50.00   Apartamento  "
            ],
            "text/html": [
              "\n",
              "  <div id=\"df-3e3d7c00-034c-431c-8e60-17aff1119cb3\">\n",
              "    <div class=\"colab-df-container\">\n",
              "      <div>\n",
              "<style scoped>\n",
              "    .dataframe tbody tr th:only-of-type {\n",
              "        vertical-align: middle;\n",
              "    }\n",
              "\n",
              "    .dataframe tbody tr th {\n",
              "        vertical-align: top;\n",
              "    }\n",
              "\n",
              "    .dataframe thead th {\n",
              "        text-align: right;\n",
              "    }\n",
              "</style>\n",
              "<table border=\"1\" class=\"dataframe\">\n",
              "  <thead>\n",
              "    <tr style=\"text-align: right;\">\n",
              "      <th></th>\n",
              "      <th>Tipo</th>\n",
              "      <th>Bairro</th>\n",
              "      <th>Quartos</th>\n",
              "      <th>Vagas</th>\n",
              "      <th>Suites</th>\n",
              "      <th>Area</th>\n",
              "      <th>Valor</th>\n",
              "      <th>Condominio</th>\n",
              "      <th>IPTU</th>\n",
              "      <th>Valor m2</th>\n",
              "      <th>Tipo Agregado</th>\n",
              "    </tr>\n",
              "  </thead>\n",
              "  <tbody>\n",
              "    <tr>\n",
              "      <th>0</th>\n",
              "      <td>Quitinete</td>\n",
              "      <td>Copacabana</td>\n",
              "      <td>1</td>\n",
              "      <td>0</td>\n",
              "      <td>0</td>\n",
              "      <td>40</td>\n",
              "      <td>1700.0</td>\n",
              "      <td>500.0</td>\n",
              "      <td>60.0</td>\n",
              "      <td>42.50</td>\n",
              "      <td>Apartamento</td>\n",
              "    </tr>\n",
              "    <tr>\n",
              "      <th>1</th>\n",
              "      <td>Casa</td>\n",
              "      <td>Jardim Botânico</td>\n",
              "      <td>2</td>\n",
              "      <td>0</td>\n",
              "      <td>1</td>\n",
              "      <td>100</td>\n",
              "      <td>7000.0</td>\n",
              "      <td>0.0</td>\n",
              "      <td>0.0</td>\n",
              "      <td>70.00</td>\n",
              "      <td>Casa</td>\n",
              "    </tr>\n",
              "    <tr>\n",
              "      <th>2</th>\n",
              "      <td>Apartamento</td>\n",
              "      <td>Centro</td>\n",
              "      <td>1</td>\n",
              "      <td>0</td>\n",
              "      <td>0</td>\n",
              "      <td>15</td>\n",
              "      <td>800.0</td>\n",
              "      <td>390.0</td>\n",
              "      <td>20.0</td>\n",
              "      <td>53.33</td>\n",
              "      <td>Apartamento</td>\n",
              "    </tr>\n",
              "    <tr>\n",
              "      <th>3</th>\n",
              "      <td>Apartamento</td>\n",
              "      <td>Higienópolis</td>\n",
              "      <td>1</td>\n",
              "      <td>0</td>\n",
              "      <td>0</td>\n",
              "      <td>48</td>\n",
              "      <td>800.0</td>\n",
              "      <td>230.0</td>\n",
              "      <td>0.0</td>\n",
              "      <td>16.67</td>\n",
              "      <td>Apartamento</td>\n",
              "    </tr>\n",
              "    <tr>\n",
              "      <th>4</th>\n",
              "      <td>Apartamento</td>\n",
              "      <td>Cachambi</td>\n",
              "      <td>2</td>\n",
              "      <td>0</td>\n",
              "      <td>0</td>\n",
              "      <td>50</td>\n",
              "      <td>1300.0</td>\n",
              "      <td>301.0</td>\n",
              "      <td>17.0</td>\n",
              "      <td>26.00</td>\n",
              "      <td>Apartamento</td>\n",
              "    </tr>\n",
              "    <tr>\n",
              "      <th>5</th>\n",
              "      <td>Casa de Condomínio</td>\n",
              "      <td>Barra da Tijuca</td>\n",
              "      <td>5</td>\n",
              "      <td>4</td>\n",
              "      <td>5</td>\n",
              "      <td>750</td>\n",
              "      <td>22000.0</td>\n",
              "      <td>0.0</td>\n",
              "      <td>0.0</td>\n",
              "      <td>29.33</td>\n",
              "      <td>Casa</td>\n",
              "    </tr>\n",
              "    <tr>\n",
              "      <th>6</th>\n",
              "      <td>Casa de Condomínio</td>\n",
              "      <td>Ramos</td>\n",
              "      <td>2</td>\n",
              "      <td>2</td>\n",
              "      <td>0</td>\n",
              "      <td>65</td>\n",
              "      <td>1000.0</td>\n",
              "      <td>0.0</td>\n",
              "      <td>0.0</td>\n",
              "      <td>15.38</td>\n",
              "      <td>Casa</td>\n",
              "    </tr>\n",
              "    <tr>\n",
              "      <th>7</th>\n",
              "      <td>Apartamento</td>\n",
              "      <td>Grajaú</td>\n",
              "      <td>2</td>\n",
              "      <td>1</td>\n",
              "      <td>0</td>\n",
              "      <td>70</td>\n",
              "      <td>1500.0</td>\n",
              "      <td>642.0</td>\n",
              "      <td>74.0</td>\n",
              "      <td>21.43</td>\n",
              "      <td>Apartamento</td>\n",
              "    </tr>\n",
              "    <tr>\n",
              "      <th>8</th>\n",
              "      <td>Apartamento</td>\n",
              "      <td>Lins de Vasconcelos</td>\n",
              "      <td>3</td>\n",
              "      <td>1</td>\n",
              "      <td>1</td>\n",
              "      <td>90</td>\n",
              "      <td>1500.0</td>\n",
              "      <td>455.0</td>\n",
              "      <td>14.0</td>\n",
              "      <td>16.67</td>\n",
              "      <td>Apartamento</td>\n",
              "    </tr>\n",
              "    <tr>\n",
              "      <th>9</th>\n",
              "      <td>Apartamento</td>\n",
              "      <td>Copacabana</td>\n",
              "      <td>1</td>\n",
              "      <td>0</td>\n",
              "      <td>1</td>\n",
              "      <td>40</td>\n",
              "      <td>2000.0</td>\n",
              "      <td>561.0</td>\n",
              "      <td>50.0</td>\n",
              "      <td>50.00</td>\n",
              "      <td>Apartamento</td>\n",
              "    </tr>\n",
              "  </tbody>\n",
              "</table>\n",
              "</div>\n",
              "      <button class=\"colab-df-convert\" onclick=\"convertToInteractive('df-3e3d7c00-034c-431c-8e60-17aff1119cb3')\"\n",
              "              title=\"Convert this dataframe to an interactive table.\"\n",
              "              style=\"display:none;\">\n",
              "        \n",
              "  <svg xmlns=\"http://www.w3.org/2000/svg\" height=\"24px\"viewBox=\"0 0 24 24\"\n",
              "       width=\"24px\">\n",
              "    <path d=\"M0 0h24v24H0V0z\" fill=\"none\"/>\n",
              "    <path d=\"M18.56 5.44l.94 2.06.94-2.06 2.06-.94-2.06-.94-.94-2.06-.94 2.06-2.06.94zm-11 1L8.5 8.5l.94-2.06 2.06-.94-2.06-.94L8.5 2.5l-.94 2.06-2.06.94zm10 10l.94 2.06.94-2.06 2.06-.94-2.06-.94-.94-2.06-.94 2.06-2.06.94z\"/><path d=\"M17.41 7.96l-1.37-1.37c-.4-.4-.92-.59-1.43-.59-.52 0-1.04.2-1.43.59L10.3 9.45l-7.72 7.72c-.78.78-.78 2.05 0 2.83L4 21.41c.39.39.9.59 1.41.59.51 0 1.02-.2 1.41-.59l7.78-7.78 2.81-2.81c.8-.78.8-2.07 0-2.86zM5.41 20L4 18.59l7.72-7.72 1.47 1.35L5.41 20z\"/>\n",
              "  </svg>\n",
              "      </button>\n",
              "      \n",
              "  <style>\n",
              "    .colab-df-container {\n",
              "      display:flex;\n",
              "      flex-wrap:wrap;\n",
              "      gap: 12px;\n",
              "    }\n",
              "\n",
              "    .colab-df-convert {\n",
              "      background-color: #E8F0FE;\n",
              "      border: none;\n",
              "      border-radius: 50%;\n",
              "      cursor: pointer;\n",
              "      display: none;\n",
              "      fill: #1967D2;\n",
              "      height: 32px;\n",
              "      padding: 0 0 0 0;\n",
              "      width: 32px;\n",
              "    }\n",
              "\n",
              "    .colab-df-convert:hover {\n",
              "      background-color: #E2EBFA;\n",
              "      box-shadow: 0px 1px 2px rgba(60, 64, 67, 0.3), 0px 1px 3px 1px rgba(60, 64, 67, 0.15);\n",
              "      fill: #174EA6;\n",
              "    }\n",
              "\n",
              "    [theme=dark] .colab-df-convert {\n",
              "      background-color: #3B4455;\n",
              "      fill: #D2E3FC;\n",
              "    }\n",
              "\n",
              "    [theme=dark] .colab-df-convert:hover {\n",
              "      background-color: #434B5C;\n",
              "      box-shadow: 0px 1px 3px 1px rgba(0, 0, 0, 0.15);\n",
              "      filter: drop-shadow(0px 1px 2px rgba(0, 0, 0, 0.3));\n",
              "      fill: #FFFFFF;\n",
              "    }\n",
              "  </style>\n",
              "\n",
              "      <script>\n",
              "        const buttonEl =\n",
              "          document.querySelector('#df-3e3d7c00-034c-431c-8e60-17aff1119cb3 button.colab-df-convert');\n",
              "        buttonEl.style.display =\n",
              "          google.colab.kernel.accessAllowed ? 'block' : 'none';\n",
              "\n",
              "        async function convertToInteractive(key) {\n",
              "          const element = document.querySelector('#df-3e3d7c00-034c-431c-8e60-17aff1119cb3');\n",
              "          const dataTable =\n",
              "            await google.colab.kernel.invokeFunction('convertToInteractive',\n",
              "                                                     [key], {});\n",
              "          if (!dataTable) return;\n",
              "\n",
              "          const docLinkHtml = 'Like what you see? Visit the ' +\n",
              "            '<a target=\"_blank\" href=https://colab.research.google.com/notebooks/data_table.ipynb>data table notebook</a>'\n",
              "            + ' to learn more about interactive tables.';\n",
              "          element.innerHTML = '';\n",
              "          dataTable['output_type'] = 'display_data';\n",
              "          await google.colab.output.renderOutput(dataTable, element);\n",
              "          const docLink = document.createElement('div');\n",
              "          docLink.innerHTML = docLinkHtml;\n",
              "          element.appendChild(docLink);\n",
              "        }\n",
              "      </script>\n",
              "    </div>\n",
              "  </div>\n",
              "  "
            ]
          },
          "metadata": {},
          "execution_count": 3
        }
      ]
    },
    {
      "cell_type": "code",
      "source": [
        "dados.boxplot(['Valor']) # fazendo o boxplot, visualização ruim"
      ],
      "metadata": {
        "colab": {
          "base_uri": "https://localhost:8080/",
          "height": 403
        },
        "id": "wt0Ve3czmy73",
        "outputId": "58644b34-515e-4a9a-f8d1-54e34a16e104"
      },
      "execution_count": null,
      "outputs": [
        {
          "output_type": "execute_result",
          "data": {
            "text/plain": [
              "<matplotlib.axes._subplots.AxesSubplot at 0x7f772a26f890>"
            ]
          },
          "metadata": {},
          "execution_count": 4
        },
        {
          "output_type": "display_data",
          "data": {
            "text/plain": [
              "<Figure size 1008x432 with 1 Axes>"
            ],
            "image/png": "[encoded data removed]"
          },
          "metadata": {
            "needs_background": "light"
          }
        }
      ]
    },
    {
      "cell_type": "code",
      "source": [
        "dados[dados['Valor'] >= 500000]#exibindo \"outliers\", no caso, imóveis com valores maiores ou iguais a 500000.0"
      ],
      "metadata": {
        "colab": {
          "base_uri": "https://localhost:8080/",
          "height": 206
        },
        "id": "ixSYHTcxm5ot",
        "outputId": "a8c228d1-5e25-47f6-979e-eab4c4666abd"
      },
      "execution_count": null,
      "outputs": [
        {
          "output_type": "execute_result",
          "data": {
            "text/plain": [
              "                     Tipo                    Bairro  Quartos  Vagas  Suites  \\\n",
              "7629          Apartamento           Barra da Tijuca        1      1       0   \n",
              "10636  Casa de Condomínio   Freguesia (Jacarepaguá)        4      2       3   \n",
              "12661         Apartamento   Freguesia (Jacarepaguá)        2      2       1   \n",
              "13846         Apartamento  Recreio dos Bandeirantes        3      2       1   \n",
              "15520         Apartamento                  Botafogo        4      1       1   \n",
              "\n",
              "       Area      Valor  Condominio   IPTU  Valor m2 Tipo Agregado  \n",
              "7629     65   600000.0       980.0  120.0   9230.77   Apartamento  \n",
              "10636   163   800000.0       900.0    0.0   4907.98          Casa  \n",
              "12661   150   550000.0       850.0  150.0   3666.67   Apartamento  \n",
              "13846   167  1250000.0      1186.0  320.0   7485.03   Apartamento  \n",
              "15520   300  4500000.0      1100.0    0.0  15000.00   Apartamento  "
            ],
            "text/html": [
              "\n",
              "  <div id=\"df-d2280557-e6cf-4946-83ab-fb3ce92761eb\">\n",
              "    <div class=\"colab-df-container\">\n",
              "      <div>\n",
              "<style scoped>\n",
              "    .dataframe tbody tr th:only-of-type {\n",
              "        vertical-align: middle;\n",
              "    }\n",
              "\n",
              "    .dataframe tbody tr th {\n",
              "        vertical-align: top;\n",
              "    }\n",
              "\n",
              "    .dataframe thead th {\n",
              "        text-align: right;\n",
              "    }\n",
              "</style>\n",
              "<table border=\"1\" class=\"dataframe\">\n",
              "  <thead>\n",
              "    <tr style=\"text-align: right;\">\n",
              "      <th></th>\n",
              "      <th>Tipo</th>\n",
              "      <th>Bairro</th>\n",
              "      <th>Quartos</th>\n",
              "      <th>Vagas</th>\n",
              "      <th>Suites</th>\n",
              "      <th>Area</th>\n",
              "      <th>Valor</th>\n",
              "      <th>Condominio</th>\n",
              "      <th>IPTU</th>\n",
              "      <th>Valor m2</th>\n",
              "      <th>Tipo Agregado</th>\n",
              "    </tr>\n",
              "  </thead>\n",
              "  <tbody>\n",
              "    <tr>\n",
              "      <th>7629</th>\n",
              "      <td>Apartamento</td>\n",
              "      <td>Barra da Tijuca</td>\n",
              "      <td>1</td>\n",
              "      <td>1</td>\n",
              "      <td>0</td>\n",
              "      <td>65</td>\n",
              "      <td>600000.0</td>\n",
              "      <td>980.0</td>\n",
              "      <td>120.0</td>\n",
              "      <td>9230.77</td>\n",
              "      <td>Apartamento</td>\n",
              "    </tr>\n",
              "    <tr>\n",
              "      <th>10636</th>\n",
              "      <td>Casa de Condomínio</td>\n",
              "      <td>Freguesia (Jacarepaguá)</td>\n",
              "      <td>4</td>\n",
              "      <td>2</td>\n",
              "      <td>3</td>\n",
              "      <td>163</td>\n",
              "      <td>800000.0</td>\n",
              "      <td>900.0</td>\n",
              "      <td>0.0</td>\n",
              "      <td>4907.98</td>\n",
              "      <td>Casa</td>\n",
              "    </tr>\n",
              "    <tr>\n",
              "      <th>12661</th>\n",
              "      <td>Apartamento</td>\n",
              "      <td>Freguesia (Jacarepaguá)</td>\n",
              "      <td>2</td>\n",
              "      <td>2</td>\n",
              "      <td>1</td>\n",
              "      <td>150</td>\n",
              "      <td>550000.0</td>\n",
              "      <td>850.0</td>\n",
              "      <td>150.0</td>\n",
              "      <td>3666.67</td>\n",
              "      <td>Apartamento</td>\n",
              "    </tr>\n",
              "    <tr>\n",
              "      <th>13846</th>\n",
              "      <td>Apartamento</td>\n",
              "      <td>Recreio dos Bandeirantes</td>\n",
              "      <td>3</td>\n",
              "      <td>2</td>\n",
              "      <td>1</td>\n",
              "      <td>167</td>\n",
              "      <td>1250000.0</td>\n",
              "      <td>1186.0</td>\n",
              "      <td>320.0</td>\n",
              "      <td>7485.03</td>\n",
              "      <td>Apartamento</td>\n",
              "    </tr>\n",
              "    <tr>\n",
              "      <th>15520</th>\n",
              "      <td>Apartamento</td>\n",
              "      <td>Botafogo</td>\n",
              "      <td>4</td>\n",
              "      <td>1</td>\n",
              "      <td>1</td>\n",
              "      <td>300</td>\n",
              "      <td>4500000.0</td>\n",
              "      <td>1100.0</td>\n",
              "      <td>0.0</td>\n",
              "      <td>15000.00</td>\n",
              "      <td>Apartamento</td>\n",
              "    </tr>\n",
              "  </tbody>\n",
              "</table>\n",
              "</div>\n",
              "      <button class=\"colab-df-convert\" onclick=\"convertToInteractive('df-d2280557-e6cf-4946-83ab-fb3ce92761eb')\"\n",
              "              title=\"Convert this dataframe to an interactive table.\"\n",
              "              style=\"display:none;\">\n",
              "        \n",
              "  <svg xmlns=\"http://www.w3.org/2000/svg\" height=\"24px\"viewBox=\"0 0 24 24\"\n",
              "       width=\"24px\">\n",
              "    <path d=\"M0 0h24v24H0V0z\" fill=\"none\"/>\n",
              "    <path d=\"M18.56 5.44l.94 2.06.94-2.06 2.06-.94-2.06-.94-.94-2.06-.94 2.06-2.06.94zm-11 1L8.5 8.5l.94-2.06 2.06-.94-2.06-.94L8.5 2.5l-.94 2.06-2.06.94zm10 10l.94 2.06.94-2.06 2.06-.94-2.06-.94-.94-2.06-.94 2.06-2.06.94z\"/><path d=\"M17.41 7.96l-1.37-1.37c-.4-.4-.92-.59-1.43-.59-.52 0-1.04.2-1.43.59L10.3 9.45l-7.72 7.72c-.78.78-.78 2.05 0 2.83L4 21.41c.39.39.9.59 1.41.59.51 0 1.02-.2 1.41-.59l7.78-7.78 2.81-2.81c.8-.78.8-2.07 0-2.86zM5.41 20L4 18.59l7.72-7.72 1.47 1.35L5.41 20z\"/>\n",
              "  </svg>\n",
              "      </button>\n",
              "      \n",
              "  <style>\n",
              "    .colab-df-container {\n",
              "      display:flex;\n",
              "      flex-wrap:wrap;\n",
              "      gap: 12px;\n",
              "    }\n",
              "\n",
              "    .colab-df-convert {\n",
              "      background-color: #E8F0FE;\n",
              "      border: none;\n",
              "      border-radius: 50%;\n",
              "      cursor: pointer;\n",
              "      display: none;\n",
              "      fill: #1967D2;\n",
              "      height: 32px;\n",
              "      padding: 0 0 0 0;\n",
              "      width: 32px;\n",
              "    }\n",
              "\n",
              "    .colab-df-convert:hover {\n",
              "      background-color: #E2EBFA;\n",
              "      box-shadow: 0px 1px 2px rgba(60, 64, 67, 0.3), 0px 1px 3px 1px rgba(60, 64, 67, 0.15);\n",
              "      fill: #174EA6;\n",
              "    }\n",
              "\n",
              "    [theme=dark] .colab-df-convert {\n",
              "      background-color: #3B4455;\n",
              "      fill: #D2E3FC;\n",
              "    }\n",
              "\n",
              "    [theme=dark] .colab-df-convert:hover {\n",
              "      background-color: #434B5C;\n",
              "      box-shadow: 0px 1px 3px 1px rgba(0, 0, 0, 0.15);\n",
              "      filter: drop-shadow(0px 1px 2px rgba(0, 0, 0, 0.3));\n",
              "      fill: #FFFFFF;\n",
              "    }\n",
              "  </style>\n",
              "\n",
              "      <script>\n",
              "        const buttonEl =\n",
              "          document.querySelector('#df-d2280557-e6cf-4946-83ab-fb3ce92761eb button.colab-df-convert');\n",
              "        buttonEl.style.display =\n",
              "          google.colab.kernel.accessAllowed ? 'block' : 'none';\n",
              "\n",
              "        async function convertToInteractive(key) {\n",
              "          const element = document.querySelector('#df-d2280557-e6cf-4946-83ab-fb3ce92761eb');\n",
              "          const dataTable =\n",
              "            await google.colab.kernel.invokeFunction('convertToInteractive',\n",
              "                                                     [key], {});\n",
              "          if (!dataTable) return;\n",
              "\n",
              "          const docLinkHtml = 'Like what you see? Visit the ' +\n",
              "            '<a target=\"_blank\" href=https://colab.research.google.com/notebooks/data_table.ipynb>data table notebook</a>'\n",
              "            + ' to learn more about interactive tables.';\n",
              "          element.innerHTML = '';\n",
              "          dataTable['output_type'] = 'display_data';\n",
              "          await google.colab.output.renderOutput(dataTable, element);\n",
              "          const docLink = document.createElement('div');\n",
              "          docLink.innerHTML = docLinkHtml;\n",
              "          element.appendChild(docLink);\n",
              "        }\n",
              "      </script>\n",
              "    </div>\n",
              "  </div>\n",
              "  "
            ]
          },
          "metadata": {},
          "execution_count": 5
        }
      ]
    },
    {
      "cell_type": "code",
      "source": [
        "valor = dados['Valor']#armazenei a column numa variável, formando uma Series"
      ],
      "metadata": {
        "id": "a9LpGpLim91Z"
      },
      "execution_count": null,
      "outputs": []
    },
    {
      "cell_type": "code",
      "source": [
        "#Usamos a column para realizar cálculos\n",
        "Q1 = valor.quantile(.25)#Primeiro, calcularemos Q1 o primeiro quartil.\n",
        "Q3 = valor.quantile(.75)\n",
        "IIQ = Q3 - Q1#intevalo interquartilico\n",
        "limite_inferior = Q1 - 1.5 * IIQ\n",
        "limite_superior = Q3 + 1.5 * IIQ\n",
        "print(Q1, Q3, IIQ, limite_inferior, limite_superior)"
      ],
      "metadata": {
        "colab": {
          "base_uri": "https://localhost:8080/"
        },
        "id": "a1w9-bFEnJfm",
        "outputId": "65314588-04f3-479b-fcc3-6af18b19ae84"
      },
      "execution_count": null,
      "outputs": [
        {
          "output_type": "stream",
          "name": "stdout",
          "text": [
            "1600.0 5500.0 3900.0 -4250.0 11350.0\n"
          ]
        }
      ]
    },
    {
      "cell_type": "code",
      "source": [
        "#Faremos uma seleção dos dados que estão apenas dentro desses dois limites\n",
        "selecao = (valor >=limite_inferior) & (valor <= limite_superior)\n",
        "dados_new = dados[selecao]"
      ],
      "metadata": {
        "id": "yWKZWwdHnU3V"
      },
      "execution_count": null,
      "outputs": []
    },
    {
      "cell_type": "code",
      "source": [
        "dados_new.boxplot(['Valor'])# a vusualização ja ficou melhor"
      ],
      "metadata": {
        "colab": {
          "base_uri": "https://localhost:8080/",
          "height": 392
        },
        "id": "Lm3NDb5Hnjgg",
        "outputId": "ba618bb5-09f9-47ac-f083-00182685a790"
      },
      "execution_count": null,
      "outputs": [
        {
          "output_type": "execute_result",
          "data": {
            "text/plain": [
              "<matplotlib.axes._subplots.AxesSubplot at 0x7f7722ccc890>"
            ]
          },
          "metadata": {},
          "execution_count": 13
        },
        {
          "output_type": "display_data",
          "data": {
            "text/plain": [
              "<Figure size 1008x432 with 1 Axes>"
            ],
            "image/png": "[encoded data removed]"
          },
          "metadata": {
            "needs_background": "light"
          }
        }
      ]
    },
    {
      "cell_type": "code",
      "source": [
        "#Agora, estudaremos o histograma, isto é, uma distribuição de frequências dos dados. \n",
        "dados.hist(['Valor'])# com outliers\n",
        "dados_new.hist(['Valor'])#sem outliers"
      ],
      "metadata": {
        "colab": {
          "base_uri": "https://localhost:8080/",
          "height": 813
        },
        "id": "Va99NtqonYIG",
        "outputId": "0dca286f-38ec-4395-c457-5c1b50d37451"
      },
      "execution_count": null,
      "outputs": [
        {
          "output_type": "execute_result",
          "data": {
            "text/plain": [
              "array([[<matplotlib.axes._subplots.AxesSubplot object at 0x7f7722d88d90>]],\n",
              "      dtype=object)"
            ]
          },
          "metadata": {},
          "execution_count": 12
        },
        {
          "output_type": "display_data",
          "data": {
            "text/plain": [
              "<Figure size 1008x432 with 1 Axes>"
            ],
            "image/png": "[encoded data removed]"
          },
          "metadata": {
            "needs_background": "light"
          }
        },
        {
          "output_type": "display_data",
          "data": {
            "text/plain": [
              "<Figure size 1008x432 with 1 Axes>"
            ],
            "image/png": "[encoded data removed]"
          },
          "metadata": {
            "needs_background": "light"
          }
        }
      ]
    },
    {
      "cell_type": "code",
      "source": [
        "#box-plot pautado por tipo de imóvel\n",
        "dados.boxplot(['Valor'], by = ['Tipo'])"
      ],
      "metadata": {
        "colab": {
          "base_uri": "https://localhost:8080/",
          "height": 495
        },
        "id": "2iObdTAcq5JI",
        "outputId": "49cb2d62-e138-4c16-ea97-9a6110e71a70"
      },
      "execution_count": null,
      "outputs": [
        {
          "output_type": "stream",
          "name": "stderr",
          "text": [
            "/usr/local/lib/python3.7/dist-packages/matplotlib/cbook/__init__.py:1376: VisibleDeprecationWarning: Creating an ndarray from ragged nested sequences (which is a list-or-tuple of lists-or-tuples-or ndarrays with different lengths or shapes) is deprecated. If you meant to do this, you must specify 'dtype=object' when creating the ndarray.\n",
            "  X = np.atleast_1d(X.T if isinstance(X, np.ndarray) else np.asarray(X))\n"
          ]
        },
        {
          "output_type": "execute_result",
          "data": {
            "text/plain": [
              "<matplotlib.axes._subplots.AxesSubplot at 0x7f7722c15090>"
            ]
          },
          "metadata": {},
          "execution_count": 15
        },
        {
          "output_type": "display_data",
          "data": {
            "text/plain": [
              "<Figure size 1008x432 with 1 Axes>"
            ],
            "image/png": "[encoded data removed]"
          },
          "metadata": {
            "needs_background": "light"
          }
        }
      ]
    },
    {
      "cell_type": "code",
      "source": [
        "#análise para os grupos que selecionamos\n",
        "grupo_tipo = dados.groupby('Tipo')\n",
        "#Criamos um grupo para todo o dataframe\n",
        "type(grupo_tipo)"
      ],
      "metadata": {
        "colab": {
          "base_uri": "https://localhost:8080/"
        },
        "id": "R6I6aX1grSOK",
        "outputId": "c0a9c444-f374-4d2a-f7ea-047a06366eab"
      },
      "execution_count": null,
      "outputs": [
        {
          "output_type": "execute_result",
          "data": {
            "text/plain": [
              "<pandas.core.groupby.generic.DataFrameGroupBy object at 0x7f7720978950>"
            ]
          },
          "metadata": {},
          "execution_count": 66
        }
      ]
    },
    {
      "cell_type": "code",
      "source": [
        "#criar um grupo com base na variável Valor por Tipo\n",
        "grupo_tipo = dados.groupby('Tipo')['Valor']\n",
        "type(grupo_tipo)"
      ],
      "metadata": {
        "colab": {
          "base_uri": "https://localhost:8080/"
        },
        "id": "XfmQ2etwriDH",
        "outputId": "4768f653-f407-4f27-a8d3-35debedd5836"
      },
      "execution_count": null,
      "outputs": [
        {
          "output_type": "execute_result",
          "data": {
            "text/plain": [
              "pandas.core.groupby.generic.SeriesGroupBy"
            ]
          },
          "metadata": {},
          "execution_count": 42
        }
      ]
    },
    {
      "cell_type": "code",
      "source": [
        "grupo_tipo.groups\n",
        "#mudamos nosso tipo de DataFrameGroupy para Series. \n",
        "#Podemos visualizar o conteúdo dos dados, ao escrever grupo_tipo.groups, que será um dicionário, cuja a chave será o Tipo, e os índices de localização."
      ],
      "metadata": {
        "colab": {
          "base_uri": "https://localhost:8080/"
        },
        "id": "9RX22yn3sL2h",
        "outputId": "44a6a073-a8fa-4258-85f7-c1763a2e01d7"
      },
      "execution_count": null,
      "outputs": [
        {
          "output_type": "execute_result",
          "data": {
            "text/plain": [
              "{'Apartamento': [2, 3, 4, 7, 8, 9, 11, 13, 14, 15, 17, 18, 19, 20, 21, 23, 24, 25, 26, 27, 29, 30, 31, 32, 33, 34, 35, 36, 37, 38, 39, 40, 41, 43, 44, 45, 46, 47, 48, 49, 50, 51, 52, 53, 55, 56, 59, 60, 61, 62, 63, 64, 65, 66, 67, 68, 69, 70, 72, 73, 74, 75, 76, 77, 79, 80, 82, 83, 84, 85, 87, 88, 89, 90, 91, 92, 93, 94, 95, 97, 98, 99, 102, 103, 104, 105, 106, 107, 108, 109, 110, 111, 112, 113, 114, 115, 116, 117, 118, 119, ...], 'Casa': [1, 22, 54, 57, 96, 100, 144, 160, 180, 238, 250, 253, 264, 286, 310, 316, 334, 339, 357, 378, 385, 399, 424, 434, 474, 475, 481, 511, 542, 543, 567, 571, 572, 618, 621, 630, 635, 636, 660, 676, 700, 721, 724, 760, 771, 780, 856, 873, 937, 982, 1029, 1036, 1118, 1123, 1125, 1157, 1178, 1249, 1256, 1316, 1335, 1350, 1371, 1412, 1426, 1430, 1440, 1445, 1472, 1475, 1488, 1586, 1604, 1656, 1662, 1666, 1671, 1684, 1709, 1717, 1762, 1810, 1835, 1875, 1905, 1933, 1942, 1960, 2019, 2039, 2056, 2075, 2101, 2107, 2108, 2133, 2170, 2201, 2204, 2211, ...], 'Casa de Condomínio': [5, 6, 12, 16, 42, 58, 166, 168, 183, 207, 222, 246, 259, 265, 279, 291, 308, 336, 391, 401, 440, 445, 449, 502, 556, 609, 622, 657, 663, 673, 707, 723, 781, 807, 809, 863, 883, 887, 934, 958, 961, 979, 986, 992, 1004, 1008, 1028, 1082, 1095, 1112, 1129, 1148, 1158, 1182, 1220, 1227, 1229, 1239, 1246, 1308, 1312, 1320, 1341, 1356, 1406, 1438, 1439, 1467, 1495, 1531, 1560, 1582, 1601, 1615, 1646, 1713, 1722, 1728, 1756, 1764, 1770, 1802, 1860, 1880, 1883, 1899, 1938, 2031, 2033, 2071, 2152, 2168, 2200, 2224, 2246, 2248, 2327, 2333, 2357, 2371, ...], 'Casa de Vila': [81, 212, 220, 303, 332, 697, 822, 844, 918, 1012, 1353, 1362, 1447, 1491, 1553, 1639, 1669, 1703, 1769, 2087, 2249, 2267, 2446, 2533, 2547, 2605, 2641, 2727, 2840, 2872, 2977, 2984, 3017, 3025, 3300, 3426, 3523, 3703, 3823, 3855, 3858, 3863, 4094, 4146, 4153, 4165, 4340, 4444, 4826, 5151, 5170, 5175, 5198, 5294, 5410, 5535, 5597, 5724, 5751, 5911, 5950, 5995, 6008, 6031, 6049, 6201, 6236, 6300, 6348, 6402, 6429, 6754, 6795, 6939, 6957, 7033, 7091, 7146, 7296, 7697, 7712, 7778, 7837, 7843, 7968, 8004, 8136, 8427, 8452, 8578, 9229, 9234, 9319, 9476, 9619, 9624, 9716, 9739, 9784, 9867, ...], 'Quitinete': [0, 10, 28, 71, 78, 86, 101, 120, 146, 174, 191, 206, 223, 248, 301, 314, 327, 344, 355, 425, 426, 427, 460, 486, 532, 633, 650, 680, 808, 870, 917, 919, 924, 928, 939, 944, 970, 1001, 1016, 1044, 1070, 1156, 1170, 1172, 1184, 1192, 1196, 1212, 1217, 1261, 1274, 1334, 1351, 1360, 1393, 1404, 1407, 1483, 1496, 1510, 1543, 1595, 1611, 1613, 1633, 1696, 1697, 1706, 1733, 1753, 1772, 1824, 1839, 1853, 1910, 2013, 2085, 2098, 2125, 2142, 2149, 2156, 2160, 2227, 2237, 2239, 2258, 2272, 2326, 2362, 2382, 2383, 2384, 2394, 2445, 2457, 2462, 2493, 2507, 2630, ...]}"
            ]
          },
          "metadata": {},
          "execution_count": 41
        }
      ]
    },
    {
      "cell_type": "code",
      "source": [
        "#podemos então, realizar os cálculos\n",
        "Q1 =  grupo_tipo.quantile(.25)\n",
        "Q3 =  grupo_tipo.quantile(.75)\n",
        "IIQ = Q3 - Q1\n",
        "limite_inferior = Q1 - 1.5 * IIQ\n",
        "limite_superior = Q3 + 1.5 * IIQ\n",
        "print(Q1)#exemplo"
      ],
      "metadata": {
        "colab": {
          "base_uri": "https://localhost:8080/"
        },
        "id": "2DdE7vKMtZB6",
        "outputId": "c3793a22-cb9c-4631-b64c-8af8ca8fd0e5"
      },
      "execution_count": null,
      "outputs": [
        {
          "output_type": "stream",
          "name": "stdout",
          "text": [
            "                    Quartos  Vagas  Suites    Area   Valor  Condominio  IPTU  \\\n",
            "Tipo                                                                           \n",
            "Apartamento             2.0    1.0     0.0   67.00  1700.0      600.00   0.0   \n",
            "Casa                    2.0    0.0     0.0   70.00  1100.0        0.00   0.0   \n",
            "Casa de Condomínio      3.0    2.0     1.0  205.25  4000.0      490.00   0.0   \n",
            "Casa de Vila            1.0    0.0     0.0   45.00   750.0        0.00   0.0   \n",
            "Quitinete               1.0    0.0     0.0   24.00   900.0      325.75   0.0   \n",
            "\n",
            "                    Valor m2  \n",
            "Tipo                          \n",
            "Apartamento          21.8950  \n",
            "Casa                 13.7500  \n",
            "Casa de Condomínio   16.5225  \n",
            "Casa de Vila         15.0000  \n",
            "Quitinete            33.3300  \n"
          ]
        },
        {
          "output_type": "stream",
          "name": "stderr",
          "text": [
            "/usr/local/lib/python3.7/dist-packages/ipykernel_launcher.py:2: FutureWarning: Dropping invalid columns in DataFrameGroupBy.quantile is deprecated. In a future version, a TypeError will be raised. Before calling .quantile, select only columns which should be valid for the function.\n",
            "  \n",
            "/usr/local/lib/python3.7/dist-packages/ipykernel_launcher.py:3: FutureWarning: Dropping invalid columns in DataFrameGroupBy.quantile is deprecated. In a future version, a TypeError will be raised. Before calling .quantile, select only columns which should be valid for the function.\n",
            "  This is separate from the ipykernel package so we can avoid doing imports until\n"
          ]
        }
      ]
    },
    {
      "cell_type": "code",
      "source": [
        "#Ao visualizarmos Q1, por exemplo, teremos uma Series por tipo de imóvel. \n",
        "#O mesmo vale para todos os elementos da fórmula, como Q3, limite superior e inferior. \n",
        "#Como podemos acessar o limite_superior de um tipo de imóvel do tipo apartamento?\n",
        "limite_superior['Apartamento']"
      ],
      "metadata": {
        "colab": {
          "base_uri": "https://localhost:8080/"
        },
        "id": "8MZA6WJRtgFf",
        "outputId": "ec7ad420-8bd3-4509-e66a-a0f2fbf402cc"
      },
      "execution_count": null,
      "outputs": [
        {
          "output_type": "execute_result",
          "data": {
            "text/plain": [
              "9950.0"
            ]
          },
          "metadata": {},
          "execution_count": 44
        }
      ]
    },
    {
      "cell_type": "code",
      "source": [
        "#identificarmos os dados discrepantes de acordo com os tipos de apartamento\n",
        "for tipo in grupo_tipo.groups.keys():\n",
        "    print(tipo)"
      ],
      "metadata": {
        "colab": {
          "base_uri": "https://localhost:8080/"
        },
        "id": "tdC3AOyvtx5T",
        "outputId": "94df44a3-f248-4fd6-94a5-44aff03e76a6"
      },
      "execution_count": null,
      "outputs": [
        {
          "output_type": "stream",
          "name": "stdout",
          "text": [
            "Apartamento\n",
            "Casa\n",
            "Casa de Condomínio\n",
            "Casa de Vila\n",
            "Quitinete\n"
          ]
        }
      ]
    },
    {
      "cell_type": "code",
      "source": [
        "#realizar uma seleção, e em um caso que temos mais de um tipo de variável, Tipo e Valor\n",
        "for tipo in grupo_tipo.groups.keys():\n",
        "    eh_tipo = dados['Tipo'] == tipo#comparamos os ítens na column Tipo com a variável tipo do for\n",
        "    eh_dentro_limite = (dados['Valor'] >= limite_inferior[tipo]) & (dados['Valor'] <= limite_superior[tipo])\n",
        "    #verificamos se o Valor está dentro do limite\n",
        "    selecao = eh_tipo & eh_dentro_limite\n",
        "    # a variável selecao é a intersecção das duas condições\n",
        "    dados[selecao]# lemos valores que estão no intervalo dos limites e atendem aos tipos acima"
      ],
      "metadata": {
        "id": "ZZnj44pst9FL"
      },
      "execution_count": null,
      "outputs": []
    },
    {
      "cell_type": "code",
      "source": [
        "dados_selecao = dados[selecao] # inserimos a relação e, uma variável"
      ],
      "metadata": {
        "id": "5k0ocieGuQAT"
      },
      "execution_count": null,
      "outputs": []
    },
    {
      "cell_type": "code",
      "source": [
        "dados_new = pd.DataFrame()\n",
        "for tipo in grupo_tipo.groups.keys():\n",
        "    eh_tipo = dados['Tipo'] == tipo\n",
        "    eh_dentro_limite = (dados['Valor'] >= limite_inferior[tipo]) & (dados['Valor'] <= limite_superior[tipo])\n",
        "    selecao = eh_tipo & eh_dentro_limite\n",
        "    dados_selecao = dados[selecao]\n",
        "    dados_new = pd.concat([dados_new, dados_selecao])#concatena a intersecção de valores"
      ],
      "metadata": {
        "id": "z-pDH84fuial"
      },
      "execution_count": null,
      "outputs": []
    },
    {
      "cell_type": "code",
      "source": [
        "dados_new.boxplot(['Valor'], by = ['Tipo'])\n",
        "#plotamos novamente o boxplot do valor por tipo de imóvel, considerando valores dentro dos limites e dados calculados para identificar os quartis"
      ],
      "metadata": {
        "colab": {
          "base_uri": "https://localhost:8080/",
          "height": 495
        },
        "id": "dldjURthuoH2",
        "outputId": "32f15079-4fe7-4f0f-8d37-41f9e5ea7cf8"
      },
      "execution_count": null,
      "outputs": [
        {
          "output_type": "stream",
          "name": "stderr",
          "text": [
            "/usr/local/lib/python3.7/dist-packages/matplotlib/cbook/__init__.py:1376: VisibleDeprecationWarning: Creating an ndarray from ragged nested sequences (which is a list-or-tuple of lists-or-tuples-or ndarrays with different lengths or shapes) is deprecated. If you meant to do this, you must specify 'dtype=object' when creating the ndarray.\n",
            "  X = np.atleast_1d(X.T if isinstance(X, np.ndarray) else np.asarray(X))\n"
          ]
        },
        {
          "output_type": "execute_result",
          "data": {
            "text/plain": [
              "<matplotlib.axes._subplots.AxesSubplot at 0x7f7720d19d50>"
            ]
          },
          "metadata": {},
          "execution_count": 49
        },
        {
          "output_type": "display_data",
          "data": {
            "text/plain": [
              "<Figure size 1008x432 with 1 Axes>"
            ],
            "image/png": "[encoded data removed]"
          },
          "metadata": {
            "needs_background": "light"
          }
        }
      ]
    },
    {
      "cell_type": "code",
      "source": [
        "# salvando o arquivo\n",
        "dados_new.to_csv('drive/MyDrive/Colab Notebooks/Formação Data Science/Pandas/Dados/aluguel_residencial_sem_outliers.csv', sep = ';', index = False)"
      ],
      "metadata": {
        "id": "ZbYh5Aj0uunH"
      },
      "execution_count": null,
      "outputs": []
    }
  ]
}